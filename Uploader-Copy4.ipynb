{
 "cells": [
  {
   "cell_type": "code",
   "execution_count": 353,
   "metadata": {
    "collapsed": true
   },
   "outputs": [],
   "source": [
    "#Creates and Initializes Offset Value in a separate file\n",
    "#Only need to run this once\n",
    "\n",
    "def offset_initializer():\n",
    "    offset_file_handle = open('Offset_Counter', 'w')\n",
    "    offset_file_handle.write('1')\n",
    "    offset_file_handle.close()"
   ]
  },
  {
   "cell_type": "code",
   "execution_count": 354,
   "metadata": {
    "collapsed": true
   },
   "outputs": [],
   "source": [
    "# Imported Libraries and Modules\n",
    "\n",
    "from Crypto.Cipher import PKCS1_v1_5\n",
    "from Crypto.PublicKey import RSA\n",
    "from Crypto.Cipher import AES\n",
    "from Crypto.Hash import SHA\n",
    "from Crypto import Random\n",
    "import random\n",
    "import os\n",
    "import string\n",
    "import boto3\n",
    "import base64"
   ]
  },
  {
   "cell_type": "code",
   "execution_count": 355,
   "metadata": {
    "collapsed": false
   },
   "outputs": [],
   "source": [
    "#Reads offset file and return the value that it finds\n",
    "\n",
    "def read_offset_value():\n",
    "    offset_file_handle = open('Offset_Counter', 'r')\n",
    "    counter_value = int(offset_file_handle.read())\n",
    "    offset_file_handle.close()\n",
    "    return counter_value"
   ]
  },
  {
   "cell_type": "code",
   "execution_count": 356,
   "metadata": {
    "collapsed": true
   },
   "outputs": [],
   "source": [
    "#Updates the offset counter file once the new files have been created\n",
    "\n",
    "def update_offset_value(new_offset_value):\n",
    "    offset_file_handle = open('Offset_Counter', 'w')\n",
    "    offset_file_handle.write(str(new_offset_value))\n",
    "    offset_file_handle.close()"
   ]
  },
  {
   "cell_type": "code",
   "execution_count": 357,
   "metadata": {
    "collapsed": true
   },
   "outputs": [],
   "source": [
    "#Increments the offset value by one\n",
    "\n",
    "def increment_offset_value(current_offset_value):\n",
    "    offset_file_handle = open('Offset_Counter', 'w')\n",
    "    offset_file_handle.write(str(current_offset_value + 1))\n",
    "    offset_file_handle.close()"
   ]
  },
  {
   "cell_type": "code",
   "execution_count": 358,
   "metadata": {
    "collapsed": true
   },
   "outputs": [],
   "source": [
    "# Writes random data (33KB) to a file\n",
    "\n",
    "def write_data_to_file(test_file_handle):\n",
    "    iterations = 0\n",
    "    while (iterations<500):\n",
    "        test_file_handle.write(str(os.urandom(22)))\n",
    "        iterations += 1"
   ]
  },
  {
   "cell_type": "code",
   "execution_count": 359,
   "metadata": {
    "collapsed": false
   },
   "outputs": [],
   "source": [
    "# Function that creates files based on user input with unique names\n",
    "# according to the offset value\n",
    "\n",
    "def create_file(current_offset):\n",
    "    test_file_handle = open('File_No_'+ \"%06d\"%current_offset,'w') \n",
    "    return test_file_handle"
   ]
  },
  {
   "cell_type": "code",
   "execution_count": 360,
   "metadata": {
    "collapsed": true
   },
   "outputs": [],
   "source": [
    "# This function creates and returns a random string of characters for the AES key\n",
    "\n",
    "def generate_random_key():\n",
    "    raw_aes_key = ''.join([random.choice(string.ascii_letters + string.digits) for n in range(32)])\n",
    "    return raw_aes_key"
   ]
  },
  {
   "cell_type": "code",
   "execution_count": 361,
   "metadata": {
    "collapsed": true
   },
   "outputs": [],
   "source": [
    "# Converts the AES key to bytes\n",
    "\n",
    "def string_to_bytes(raw_aes_key):\n",
    "    bytes_aes_key = str.encode(raw_aes_key)\n",
    "    return bytes_aes_key"
   ]
  },
  {
   "cell_type": "code",
   "execution_count": 362,
   "metadata": {
    "collapsed": true
   },
   "outputs": [],
   "source": [
    "# Imports key from certificate\n",
    "\n",
    "def get_public_rsa_key():\n",
    "    public_RSA_key = RSA.importKey(open('c:/cygwin64/certs/fred.pem').read())\n",
    "    return public_RSA_key"
   ]
  },
  {
   "cell_type": "code",
   "execution_count": 363,
   "metadata": {
    "collapsed": true
   },
   "outputs": [],
   "source": [
    "# Uses RSA to encrypt aes key\n",
    "\n",
    "def encrypt_with_rsa(public_RSA_key, bytes_aes_key):\n",
    "    rsa_cipher = PKCS1_v1_5.new(public_RSA_key)\n",
    "    aes_key_encrypted_by_rsa = rsa_cipher.encrypt(bytes_aes_key)\n",
    "    return aes_key_encrypted_by_rsa"
   ]
  },
  {
   "cell_type": "code",
   "execution_count": 364,
   "metadata": {
    "collapsed": false
   },
   "outputs": [],
   "source": [
    "# Generates Initialization vector and AES cipher\n",
    "def create_aes_cipher(raw_aes_key):\n",
    "    iv = Random.new().read(AES.block_size)\n",
    "    aes_cipher = AES.new(raw_aes_key, AES.MODE_CFB, iv)\n",
    "    return aes_cipher, iv"
   ]
  },
  {
   "cell_type": "code",
   "execution_count": 365,
   "metadata": {
    "collapsed": true
   },
   "outputs": [],
   "source": [
    "# Encrypts file using aes cipher\n",
    "\n",
    "def aes_file_encryption(original_file_handle, new_file_handle, aes_cipher, iv): \n",
    "    new_file_handle.write(iv + aes_cipher.encrypt(original_file_handle))"
   ]
  },
  {
   "cell_type": "code",
   "execution_count": 366,
   "metadata": {
    "collapsed": false
   },
   "outputs": [],
   "source": [
    "# Changes encrypted aes key to base 64\n",
    "\n",
    "def base_64(encrypted_aes_key):\n",
    "    new = base64.b64encode(encrypted_aes_key)\n",
    "    return new\n"
   ]
  },
  {
   "cell_type": "code",
   "execution_count": 367,
   "metadata": {
    "collapsed": false
   },
   "outputs": [],
   "source": [
    "# Uploads the array of files passed to it from main\n",
    "\n",
    "def file_uploader(encrypted_file_handle, offset, new_key):\n",
    "    s3 = boto3.resource('s3')\n",
    "    s3.Bucket('artifact-attachment').upload_file('Encrypted_No_'+ \"%06d\"%offset,'File_No_'+ \"%06d\"%offset, ExtraArgs = {\"ContentType\" : new_key})\n",
    "    print('\\nFile_No_'+ \"%06d\"%offset + \" uploaded to Bucket\")"
   ]
  },
  {
   "cell_type": "code",
   "execution_count": 368,
   "metadata": {
    "collapsed": false,
    "scrolled": false
   },
   "outputs": [
    {
     "name": "stdout",
     "output_type": "stream",
     "text": [
      "Enter 'y' or 'Y' to reset offset to Zero -> y\n",
      "\n",
      "File_No_000001 uploaded to Bucket\n"
     ]
    }
   ],
   "source": [
    "# Main function- Reads offset file, takes input from user for number of files\n",
    "# to be created. Creates the files and then updates the offset file counter\n",
    "\n",
    "# If y is entered, counter will start over at 00001\n",
    "offset_command = input(\"Enter 'y' or 'Y' to reset offset to Zero -> \")\n",
    "if offset_command == 'y' or 'Y':\n",
    "    offset_initializer()\n",
    "\n",
    "# Creates new file with offset in the filename and writes random data to the file\n",
    "current_offset_value = read_offset_value()\n",
    "new_file_object = create_file(current_offset_value)\n",
    "write_data_to_file(new_file_object)\n",
    "\n",
    "# Creates an AES key to encrypt file and encrypts that key with RsA\n",
    "raw_aes_key = generate_random_key()\n",
    "bytes_aes_key = string_to_bytes(raw_aes_key)\n",
    "public_rsa_key = get_public_rsa_key()\n",
    "aes_key_encrypted_by_rsa = encrypt_with_rsa(public_rsa_key, bytes_aes_key)\n",
    "original_file_handle = open(r'C:\\Users\\Harrison\\Documents\\%s' % 'File_No_'+ \"%06d\"%current_offset_value, \"rb\").read()  \n",
    "aes_cipher, iv = create_aes_cipher(raw_aes_key)    \n",
    "\n",
    "# Writes encrypted data to new file\n",
    "encrypted_file_handle = open(r'C:\\Users\\Harrison\\Documents\\Encrypted_No_000001', 'wb')\n",
    "aes_file_encryption(original_file_handle, encrypted_file_handle, aes_cipher, iv)\n",
    "encrypted_file_handle.close()\n",
    "\n",
    "# Converts encrypted key to string format and uploads file\n",
    "new_key = str(base_64(aes_key_encrypted_by_rsa))\n",
    "file_uploader(encrypted_file_handle,current_offset_value, new_key)\n",
    "\n",
    "increment_offset_value(current_offset_value)"
   ]
  },
  {
   "cell_type": "code",
   "execution_count": null,
   "metadata": {
    "collapsed": true
   },
   "outputs": [],
   "source": []
  }
 ],
 "metadata": {
  "kernelspec": {
   "display_name": "Python 3",
   "language": "python",
   "name": "python3"
  },
  "language_info": {
   "codemirror_mode": {
    "name": "ipython",
    "version": 3
   },
   "file_extension": ".py",
   "mimetype": "text/x-python",
   "name": "python",
   "nbconvert_exporter": "python",
   "pygments_lexer": "ipython3",
   "version": "3.5.1"
  }
 },
 "nbformat": 4,
 "nbformat_minor": 0
}
