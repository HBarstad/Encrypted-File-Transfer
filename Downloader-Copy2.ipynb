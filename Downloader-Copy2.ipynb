{
 "cells": [
  {
   "cell_type": "code",
   "execution_count": 308,
   "metadata": {
    "collapsed": true
   },
   "outputs": [],
   "source": [
    "# Imported Libraries and Modules\n",
    "import os\n",
    "import time\n",
    "import json\n",
    "import boto3\n",
    "import base64\n",
    "import string\n",
    "import hashlib\n",
    "from Crypto.Cipher import PKCS1_v1_5\n",
    "from Crypto.PublicKey import RSA\n",
    "from Crypto.Hash import SHA\n",
    "from Crypto.Cipher import AES\n",
    "from Crypto import Random\n",
    "#from string import Formatter"
   ]
  },
  {
   "cell_type": "code",
   "execution_count": 309,
   "metadata": {
    "collapsed": true
   },
   "outputs": [],
   "source": [
    "# Retrieves name of S3 Bucket\n",
    "\n",
    "def get_bucket_name(data):\n",
    "    bucket_name = data[\"Records\"][0][\"s3\"][\"bucket\"][\"name\"]\n",
    "    return bucket_name"
   ]
  },
  {
   "cell_type": "code",
   "execution_count": 310,
   "metadata": {
    "collapsed": true
   },
   "outputs": [],
   "source": [
    "# Retrieves file name from object\n",
    "\n",
    "def get_file_name(data):\n",
    "    file_name = data[\"Records\"][0][\"s3\"][\"object\"][\"key\"]\n",
    "    return file_name"
   ]
  },
  {
   "cell_type": "code",
   "execution_count": 311,
   "metadata": {
    "collapsed": false
   },
   "outputs": [],
   "source": [
    "# Creates folder with today's date if one does not already exist\n",
    "# and moves to it\n",
    "\n",
    "def create_directory ():\n",
    "    dir_name = time.strftime(\"%m-%d-%Y\")\n",
    "    try: os.makedirs(r'C:\\Users\\Harrison\\Documents\\%s' % dir_name)\n",
    "    except: pass\n",
    "    os.chdir(r'C:\\Users\\Harrison\\Documents\\%s' % dir_name)"
   ]
  },
  {
   "cell_type": "code",
   "execution_count": 312,
   "metadata": {
    "collapsed": true
   },
   "outputs": [],
   "source": [
    "# Downloads file from S3 Bucket\n",
    "\n",
    "def file_downloader(file_name, bucket):\n",
    "    try: \n",
    "        s3.Bucket(bucket).download_file(file_name, \"Downloaded- \" + file_name)\n",
    "    except:\n",
    "        print(\"File failed to download\")\n",
    "    print(\"Downloading file: \" + file_name)"
   ]
  },
  {
   "cell_type": "code",
   "execution_count": 313,
   "metadata": {
    "collapsed": true
   },
   "outputs": [],
   "source": [
    "# Returns true if MD5s match\n",
    "\n",
    "def compare_md5(md1, md2):\n",
    "    if md1 == md2:\n",
    "        return True\n",
    "    return False"
   ]
  },
  {
   "cell_type": "code",
   "execution_count": 314,
   "metadata": {
    "collapsed": true
   },
   "outputs": [],
   "source": [
    "# Obtains the MD5 hash from the S3 Object\n",
    "\n",
    "def get_md5(file_name, bucket_name):\n",
    "    md5sum = boto3.client('s3').head_object(Bucket = bucket_name, Key = file_name)['ETag'][1:-1]\n",
    "    return md5sum"
   ]
  },
  {
   "cell_type": "code",
   "execution_count": 315,
   "metadata": {
    "collapsed": false
   },
   "outputs": [],
   "source": [
    "# Calculates the hash of the downloaded file\n",
    "\n",
    "def calculat_md5(file_name):\n",
    "    md5 = hashlib.md5(open(file_name,'rb').read()).hexdigest()\n",
    "    return md5"
   ]
  },
  {
   "cell_type": "code",
   "execution_count": 316,
   "metadata": {
    "collapsed": false
   },
   "outputs": [],
   "source": [
    "# Removes file from S3 Bucket\n",
    "\n",
    "def delete_file(file_name, bucket_name):\n",
    "    try:\n",
    "        s3.Bucket(bucket_name).delete_objects( Delete={'Objects':[{ 'Key': file_name}]})\n",
    "        print(\"Deleting \" + file_name + \" from Bucket\")\n",
    "    except:\n",
    "        print(\"Failed to delete file from Bucket\")"
   ]
  },
  {
   "cell_type": "code",
   "execution_count": 317,
   "metadata": {
    "collapsed": true
   },
   "outputs": [],
   "source": [
    "# Removes message from SQS Queue\n",
    "\n",
    "def delete_message(one_message):\n",
    "    try:\n",
    "        one_message.delete()\n",
    "        print(\"Message deleted from queue\")\n",
    "    except:\n",
    "        print(\"Message deletion failed\")"
   ]
  },
  {
   "cell_type": "code",
   "execution_count": 318,
   "metadata": {
    "collapsed": false
   },
   "outputs": [],
   "source": [
    "# Retrieves key from object in S3 Bucket\n",
    "\n",
    "def get_key(file_name, bucket_name):\n",
    "    obj = s3.Bucket(bucket_name).Object(file_name)\n",
    "    data = obj.get()\n",
    "    encrypted_key = data[\"ContentType\"]\n",
    "    return encrypted_key"
   ]
  },
  {
   "cell_type": "code",
   "execution_count": 319,
   "metadata": {
    "collapsed": true
   },
   "outputs": [],
   "source": [
    "# Strips key of excess characters from string/byte conversions\n",
    "\n",
    "def strip_key(encrypted_key):\n",
    "    encrypted_key = encrypted_key.strip('b')\n",
    "    encrypted_key = encrypted_key.strip(\"'\")\n",
    "    return encrypted_key"
   ]
  },
  {
   "cell_type": "code",
   "execution_count": 320,
   "metadata": {
    "collapsed": true
   },
   "outputs": [],
   "source": [
    "# This function decrypts the encrypted AES key using RSA\n",
    "\n",
    "def key_decryption(bytes_key):\n",
    "    private_rsa_key = RSA.importKey(open('c:/cygwin64/certs/fred.pri.key').read())\n",
    "    dsize = SHA.digest_size\n",
    "    sentinel = Random.new().read(AES.block_size)\n",
    "    cipher = PKCS1_v1_5.new(private_rsa_key)\n",
    "    raw_aes_key = cipher.decrypt(bytes_key, sentinel)\n",
    "    return raw_aes_key"
   ]
  },
  {
   "cell_type": "code",
   "execution_count": 321,
   "metadata": {
    "collapsed": true
   },
   "outputs": [],
   "source": [
    "def extract_key(raw_aes_key):\n",
    "    raw_aes_key = str(raw_aes_key)\n",
    "    raw_aes_key = raw_aes_key[2:34]\n",
    "    return raw_aes_key"
   ]
  },
  {
   "cell_type": "code",
   "execution_count": 322,
   "metadata": {
    "collapsed": false
   },
   "outputs": [],
   "source": [
    "# Decodes string from base 64 to bytes\n",
    "\n",
    "def decode_64(string):\n",
    "    new = base64.b64decode(string)\n",
    "    return new"
   ]
  },
  {
   "cell_type": "code",
   "execution_count": 323,
   "metadata": {
    "collapsed": true
   },
   "outputs": [],
   "source": [
    "# Creates AES cipher\n",
    "\n",
    "def create_aes_cipher(raw_aes_key):\n",
    "    iv = Random.new().read(16)\n",
    "    aes_cipher = AES.new(raw_aes_key, AES.MODE_CFB, iv)\n",
    "    return aes_cipher"
   ]
  },
  {
   "cell_type": "code",
   "execution_count": 324,
   "metadata": {
    "collapsed": true
   },
   "outputs": [],
   "source": [
    "# Decrypts file using aes cipher\n",
    "\n",
    "def file_decryption(encrypted_file_handle, aes_cipher):\n",
    "    decrypted_text = aes_cipher.decrypt(encrypted_file_handle)\n",
    "    return decrypted_text"
   ]
  },
  {
   "cell_type": "code",
   "execution_count": 325,
   "metadata": {
    "collapsed": true
   },
   "outputs": [],
   "source": [
    "def strip_text(decrypted_key):\n",
    "    text_length = len(decrypted_key)\n",
    "    decrypted_text = decrypted_key[16:text_length]\n",
    "    return decrypted_text"
   ]
  },
  {
   "cell_type": "code",
   "execution_count": 326,
   "metadata": {
    "collapsed": false,
    "scrolled": true
   },
   "outputs": [
    {
     "name": "stdout",
     "output_type": "stream",
     "text": [
      "Downloading file: File_No_000001\n",
      "MD5 values match\n",
      "MD5 : 28eb17ecde5f9e18ead37b64c66a6c97\n",
      "Deleting File_No_000001 from Bucket\n",
      "Message deleted from queue\n"
     ]
    }
   ],
   "source": [
    "# Initial values and AWS resources set\n",
    "\n",
    "message_queue_status = 1\n",
    "sqs=boto3.resource('sqs')\n",
    "s3=boto3.resource('s3')\n",
    "artifacts=sqs.Queue('https://sqs.us-west-2.amazonaws.com/114007456961/artifacts')\n",
    "m = artifacts.receive_messages(MaxNumberOfMessages=1,WaitTimeSeconds=5,MessageAttributeNames=['*'],AttributeNames=['All'])\n",
    "\n",
    "\n",
    "# Try block will fail if no messages are in the queue\n",
    "try:\n",
    "    one_message = m[0]\n",
    "except:\n",
    "    print(\"Error\")\n",
    "    message_queue_status = 0\n",
    "    \n",
    "# Only executes if there is a message in the queue    \n",
    "\n",
    "if message_queue_status == 1:  \n",
    "    \n",
    "    create_directory()\n",
    "    \n",
    "# This section loads the message and retrieves the file and bucket name\n",
    "# of the upload that triggered the message\n",
    "\n",
    "    data = json.loads(one_message.body)\n",
    "    bucket_name = get_bucket_name(data)\n",
    "    file_name = get_file_name(data)\n",
    "    file_downloader(file_name, bucket_name)\n",
    "  \n",
    " # Calculates the MD5 hash of the file after it has been doanloaded\n",
    "# and compares it to the hash of the object in S3\n",
    "    try:\n",
    "        md5_1 = get_md5(file_name, bucket_name)\n",
    "        md5_2 = calculat_md5(\"Downloaded- \" + file_name)\n",
    "    except:\n",
    "        print(\"MD5 retrieval/calculation failed\")\n",
    "        \n",
    "    if compare_md5(md5_1, md5_2) == False:\n",
    "        raise Exception(\"MD5 values did not match\")\n",
    "    else:\n",
    "        print(\"MD5 values match\")\n",
    "        print(\"MD5 : \" + md5_1)\n",
    "# Obtains key from object metadata, strips b'' from key and \n",
    "# converts back to a bytes object\n",
    "        encrypted_key = get_key(file_name, bucket_name) \n",
    "        delete_file(file_name, bucket_name)  \n",
    "        delete_message(one_message)    \n",
    "\n",
    "# Removes excess characters from type conversion and decodes\n",
    "    encrypted_key = strip_key(encrypted_key)\n",
    "    bytes_key = base64.b64decode(encrypted_key)    \n",
    "\n",
    "# Decrypts AES key with RSA and removes excess characters   \n",
    "    raw_aes_key = key_decryption(bytes_key)\n",
    "    raw_aes_key = extract_key(raw_aes_key)\n",
    "\n",
    "# Opens files, one for encrypted file and one for decrypted\n",
    "    encrypted_file_handle = open('Downloaded- %s' % file_name, \"rb\").read() \n",
    "    decrypted_file_handle = open('Decrypted_%s' % file_name, 'wb')\n",
    "\n",
    "# Creates AES cipher and decypts file with AES\n",
    "    aes_cipher = create_aes_cipher(raw_aes_key)\n",
    "    decrypted_text = file_decryption(encrypted_file_handle, aes_cipher)\n",
    "    stripped_text = strip_text(decrypted_text)\n",
    "    decrypted_file_handle.write(stripped_text)\n",
    "    decrypted_file_handle.close()\n",
    "    \n",
    "else:\n",
    "    print(\"Message Queue empty\")"
   ]
  },
  {
   "cell_type": "code",
   "execution_count": null,
   "metadata": {
    "collapsed": true
   },
   "outputs": [],
   "source": []
  }
 ],
 "metadata": {
  "kernelspec": {
   "display_name": "Python 3",
   "language": "python",
   "name": "python3"
  },
  "language_info": {
   "codemirror_mode": {
    "name": "ipython",
    "version": 3
   },
   "file_extension": ".py",
   "mimetype": "text/x-python",
   "name": "python",
   "nbconvert_exporter": "python",
   "pygments_lexer": "ipython3",
   "version": "3.5.1"
  }
 },
 "nbformat": 4,
 "nbformat_minor": 0
}
